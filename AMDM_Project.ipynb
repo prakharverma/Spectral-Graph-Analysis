{
 "cells": [
  {
   "cell_type": "code",
   "execution_count": 80,
   "metadata": {},
   "outputs": [],
   "source": [
    "import pandas as pd\n",
    "import numpy as np\n",
    "from sklearn.cluster import KMeans\n",
    "from matplotlib import pyplot as plt"
   ]
  },
  {
   "cell_type": "code",
   "execution_count": 2,
   "metadata": {},
   "outputs": [],
   "source": [
    "data = pd.read_csv('C:/Users/Swati Choudhary/Studies/AMDM/graphs_processed/ca-GrQc.txt', sep=\" \", header=None)[1:]\\\n",
    "        .drop([2,3,4], axis=1)\n",
    "data.columns = ['Node_1' , 'Node_2']"
   ]
  },
  {
   "cell_type": "code",
   "execution_count": 3,
   "metadata": {},
   "outputs": [],
   "source": [
    "cluster_value = pd.read_csv('C:/Users/Swati Choudhary/Studies/AMDM/graphs_processed/ca-GrQc.txt', sep=\" \", header=None)\\\n",
    "                .head(1)[4][0]"
   ]
  },
  {
   "cell_type": "code",
   "execution_count": 4,
   "metadata": {},
   "outputs": [],
   "source": [
    "nodes_1 = set(data.Node_1.unique())\n",
    "nodes_2 = set(data.Node_2.unique())"
   ]
  },
  {
   "cell_type": "code",
   "execution_count": 5,
   "metadata": {},
   "outputs": [],
   "source": [
    "val_node2_not_node1 = nodes_2.difference(nodes_1)\n",
    "val_node1_not_node2 = nodes_1.difference(nodes_2)"
   ]
  },
  {
   "cell_type": "code",
   "execution_count": 6,
   "metadata": {},
   "outputs": [],
   "source": [
    "val_node2_not_node1_Df = pd.DataFrame(list(val_node2_not_node1))\n",
    "val_node2_not_node1_Df.columns = ['Node_1']\n",
    "val_node2_not_node1_Df['Node_2'] = \"\"\n",
    "val_node1_not_node2_Df = pd.DataFrame(list(val_node1_not_node2))\n",
    "val_node1_not_node2_Df.columns = ['Node_2']\n",
    "val_node1_not_node2_Df['Node_1'] = \"\""
   ]
  },
  {
   "cell_type": "code",
   "execution_count": 7,
   "metadata": {},
   "outputs": [
    {
     "name": "stderr",
     "output_type": "stream",
     "text": [
      "C:\\Anaconda3\\lib\\site-packages\\ipykernel_launcher.py:2: FutureWarning: Sorting because non-concatenation axis is not aligned. A future version\n",
      "of pandas will change to not sort by default.\n",
      "\n",
      "To accept the future behavior, pass 'sort=False'.\n",
      "\n",
      "To retain the current behavior and silence the warning, pass 'sort=True'.\n",
      "\n",
      "  \n"
     ]
    }
   ],
   "source": [
    "data = pd.concat([data, val_node2_not_node1_Df], ignore_index=True)\n",
    "data = pd.concat([data, val_node1_not_node2_Df], ignore_index=True)"
   ]
  },
  {
   "cell_type": "code",
   "execution_count": 8,
   "metadata": {},
   "outputs": [],
   "source": [
    "matrix = pd.crosstab(data.Node_1, data.Node_2)\n",
    "matrix = matrix.drop('', axis=0) # Remove blank row via index which is blank\n",
    "matrix = matrix.drop('', axis=1)\n",
    "#print (matrix)"
   ]
  },
  {
   "cell_type": "code",
   "execution_count": 9,
   "metadata": {},
   "outputs": [
    {
     "data": {
      "text/plain": [
       "(4158, 4158)"
      ]
     },
     "execution_count": 9,
     "metadata": {},
     "output_type": "execute_result"
    }
   ],
   "source": [
    "matrix.shape"
   ]
  },
  {
   "cell_type": "code",
   "execution_count": 10,
   "metadata": {
    "scrolled": true
   },
   "outputs": [
    {
     "data": {
      "text/plain": [
       "0"
      ]
     },
     "execution_count": 10,
     "metadata": {},
     "output_type": "execute_result"
    }
   ],
   "source": [
    "matrix.loc[\"30\"][\"672\"]   # to check if matrix got created correctly, gives error if the node itself does not exist in txt"
   ]
  },
  {
   "cell_type": "code",
   "execution_count": 65,
   "metadata": {},
   "outputs": [],
   "source": [
    "D = np.diag(np.sum(np.array(matrix), axis=1))\n",
    "# print(D) # Degree matrix"
   ]
  },
  {
   "cell_type": "code",
   "execution_count": 66,
   "metadata": {},
   "outputs": [],
   "source": [
    "L = D-np.array(matrix)\n",
    "#L = D-matrix\n",
    "# print(L) #Laplacian matrix"
   ]
  },
  {
   "cell_type": "code",
   "execution_count": 82,
   "metadata": {},
   "outputs": [],
   "source": [
    "vecs, vals = np.linalg.eig(L)"
   ]
  },
  {
   "cell_type": "code",
   "execution_count": 86,
   "metadata": {},
   "outputs": [
    {
     "name": "stdout",
     "output_type": "stream",
     "text": [
      "[1. 4. 4. ... 0. 0. 0.]\n",
      "4158\n",
      "[[1. 0. 0. ... 0. 0. 0.]\n",
      " [0. 1. 0. ... 0. 0. 0.]\n",
      " [0. 0. 1. ... 0. 0. 0.]\n",
      " ...\n",
      " [0. 0. 0. ... 0. 0. 0.]\n",
      " [0. 0. 0. ... 0. 0. 0.]\n",
      " [0. 0. 0. ... 0. 0. 0.]]\n",
      "4158\n"
     ]
    }
   ],
   "source": [
    "print(vecs)\n",
    "print(len(vecs))\n",
    "print(vals)\n",
    "print(len(vals))"
   ]
  },
  {
   "cell_type": "code",
   "execution_count": 87,
   "metadata": {},
   "outputs": [
    {
     "data": {
      "image/png": "[encoded data removed]",
      "text/plain": [
       "<Figure size 1296x432 with 3 Axes>"
      ]
     },
     "metadata": {
      "needs_background": "light"
     },
     "output_type": "display_data"
    }
   ],
   "source": [
    "fig = plt.figure(figsize=[18, 6])\n",
    "ax1 = plt.subplot(131)\n",
    "plt.plot(vecs)\n",
    "ax1.title.set_text('eigenvalues')\n",
    "i = np.where(vecs < 0.5)[0]\n",
    "ax2 = plt.subplot(132)\n",
    "plt.plot(vals[:, i[0]])\n",
    "ax3 = plt.subplot(133)\n",
    "plt.plot(vals[:, i[1]])\n",
    "ax3.title.set_text('second eigenvector with eigenvalue close to 0')"
   ]
  },
  {
   "cell_type": "code",
   "execution_count": 73,
   "metadata": {},
   "outputs": [],
   "source": [
    "kmeans = KMeans(n_clusters=int(cluster_value), max_iter=20)"
   ]
  },
  {
   "cell_type": "markdown",
   "metadata": {},
   "source": [
    "# After this all cells are not running So this part onwards needs fixing. Some variables will not exist. "
   ]
  },
  {
   "cell_type": "code",
   "execution_count": 74,
   "metadata": {},
   "outputs": [
    {
     "data": {
      "text/plain": [
       "KMeans(algorithm='auto', copy_x=True, init='k-means++', max_iter=20,\n",
       "       n_clusters=2, n_init=10, n_jobs=None, precompute_distances='auto',\n",
       "       random_state=None, tol=0.0001, verbose=0)"
      ]
     },
     "execution_count": 74,
     "metadata": {},
     "output_type": "execute_result"
    }
   ],
   "source": [
    "kmeans.fit(U.reshape(-1, 1))"
   ]
  },
  {
   "cell_type": "code",
   "execution_count": 75,
   "metadata": {},
   "outputs": [],
   "source": [
    "result = pd.DataFrame(kmeans.predict(U.reshape(-1, 1)))\n",
    "result.columns = ['Class']\n",
    "result['Node'] = matrix.index\n",
    "result['U'] = U.tolist()"
   ]
  },
  {
   "cell_type": "code",
   "execution_count": null,
   "metadata": {},
   "outputs": [],
   "source": [
    "km_clustering = km.fit(X)\n",
    "plt.scatter(U[:,0], U[:,1], c=km_clustering.labels_, cmap='rainbow', alpha=0.7,\\\n",
    "            edgecolors='b')"
   ]
  }
 ],
 "metadata": {
  "kernelspec": {
   "display_name": "Python 3",
   "language": "python",
   "name": "python3"
  },
  "language_info": {
   "codemirror_mode": {
    "name": "ipython",
    "version": 3
   },
   "file_extension": ".py",
   "mimetype": "text/x-python",
   "name": "python",
   "nbconvert_exporter": "python",
   "pygments_lexer": "ipython3",
   "version": "3.7.3"
  }
 },
 "nbformat": 4,
 "nbformat_minor": 2
}
