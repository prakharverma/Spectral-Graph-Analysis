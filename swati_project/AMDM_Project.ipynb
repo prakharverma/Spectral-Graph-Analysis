{
 "cells": [
  {
   "cell_type": "code",
   "execution_count": 1,
   "metadata": {},
   "outputs": [],
   "source": [
    "import pandas as pd\n",
    "import numpy as np\n",
    "from sklearn.cluster import KMeans\n",
    "from matplotlib import pyplot as plt\n",
    "from scipy.sparse import csgraph, csr_matrix\n",
    "from scipy.sparse.linalg import eigs\n",
    "import networkx as nx"
   ]
  },
  {
   "cell_type": "code",
   "execution_count": 2,
   "metadata": {},
   "outputs": [],
   "source": [
    "def cluster_size():\n",
    "    \"\"\"\n",
    "    Return the size of the cluster required\n",
    "    \n",
    "    Args:\n",
    "    \n",
    "    Returns:\n",
    "        size_of_cluster(int) : Size of the cluster \n",
    "    \"\"\"\n",
    "    \n",
    "    size_of_cluster = int(pd.read_csv(file_location, sep=\" \").columns[4])\n",
    "    \n",
    "    return size_of_cluster"
   ]
  },
  {
   "cell_type": "code",
   "execution_count": 3,
   "metadata": {},
   "outputs": [],
   "source": [
    "def read_data():\n",
    "    \"\"\"\n",
    "    Read the data from the location specified in the `file_location` variable into memory\n",
    "    \n",
    "    Args:\n",
    "    \n",
    "    Returns:\n",
    "        data(pd.DataFrame) : The dataset which contains edge information between nodes\n",
    "    \"\"\"\n",
    "    data = pd.read_csv(file_location, sep=\" \")\n",
    "    data.columns = [\"0\", \"1\", \"2\", \"3\", \"4\"]\n",
    "    data = data.drop([\"2\", \"3\", \"4\"], axis=1)\n",
    "    data.columns = ['Node_1', 'Node_2']\n",
    "    return data"
   ]
  },
  {
   "cell_type": "code",
   "execution_count": 4,
   "metadata": {},
   "outputs": [],
   "source": [
    "def networkx_implementation(matrix, k_val):\n",
    "    \n",
    "    \"\"\"\n",
    "    Self-implemented method to generate eigenvalues and eigenvectors\n",
    "    \n",
    "    Args:\n",
    "        \n",
    "    Returns:\n",
    "        vals(numpy.ndarray) : Eigenvalues\n",
    "        vecs(numpy.ndarray) : Eigenvectors\n",
    "    \"\"\" \n",
    "    \n",
    "    L = nx.laplacian_matrix(matrix).astype(float)\n",
    "    vals, vecs = eigs(L, k=k_val)\n",
    "    vecs = np.real(vecs)\n",
    "    vecs = vecs[:,np.argsort(vals)]\n",
    "    vals = vals[np.argsort(vals)]\n",
    "    return vals, vecs"
   ]
  },
  {
   "cell_type": "code",
   "execution_count": 5,
   "metadata": {},
   "outputs": [],
   "source": [
    "def run_kmeans(implementation_type, matrix):\n",
    "    \n",
    "    \"\"\"\n",
    "    Run K-means implementation and match-up the cluster ID with the node number\n",
    "    \n",
    "    Args:\n",
    "        implementation_type(function) : The function to use in order to perform eigen decomposition\n",
    "        matrix(pd.DataFrame)          : Adjacency matrix\n",
    "        \n",
    "    Returns:\n",
    "        result(pd.DataFrame)          : Dataframe consisting of mapping between cluster ID and node number\n",
    "    \"\"\"  \n",
    "    \n",
    "    n_clusters=cluster_size()\n",
    "    vals, vecs = implementation_type(matrix, n_clusters)\n",
    "    kmeans = KMeans(n_clusters=cluster_size())\n",
    "    kmeans.fit(vecs)\n",
    "    result = pd.DataFrame(kmeans.labels_)\n",
    "    result.columns = ['Cluster_ID']\n",
    "    #result['Node'] = matrix.index\n",
    "    for clusterid in set(result.Cluster_ID):\n",
    "        print(\"Class-\" + \n",
    "              str(clusterid) + \n",
    "              \"  Count : \"\n",
    "              + str(len(result.loc[(result.Cluster_ID == clusterid)])))\n",
    "    return result"
   ]
  },
  {
   "cell_type": "code",
   "execution_count": 6,
   "metadata": {},
   "outputs": [],
   "source": [
    "def networkx_computation(data):\n",
    "    G = nx.Graph()\n",
    "    all_nodes = set(data.Node_1).union(set(data.Node_2))\n",
    "\n",
    "    for node in all_nodes:\n",
    "        G.add_node(node)\n",
    "    for index, row in data.iterrows():\n",
    "        G.add_edge(row['Node_1'], row['Node_2'])\n",
    "        \n",
    "    return G"
   ]
  },
  {
   "cell_type": "code",
   "execution_count": 7,
   "metadata": {},
   "outputs": [],
   "source": [
    "file_location = 'ca-GrQc.txt'"
   ]
  },
  {
   "cell_type": "code",
   "execution_count": 8,
   "metadata": {},
   "outputs": [
    {
     "name": "stdout",
     "output_type": "stream",
     "text": [
      "Class-0  Count : 4157\n",
      "Class-1  Count : 1\n"
     ]
    }
   ],
   "source": [
    "result = run_kmeans(networkx_implementation, networkx_computation(read_data()))"
   ]
  },
  {
   "cell_type": "code",
   "execution_count": 9,
   "metadata": {},
   "outputs": [],
   "source": [
    "file_location = 'Oregon-1.txt'"
   ]
  },
  {
   "cell_type": "code",
   "execution_count": 10,
   "metadata": {},
   "outputs": [
    {
     "name": "stdout",
     "output_type": "stream",
     "text": [
      "Class-0  Count : 10666\n",
      "Class-1  Count : 1\n",
      "Class-2  Count : 1\n",
      "Class-3  Count : 1\n",
      "Class-4  Count : 1\n"
     ]
    }
   ],
   "source": [
    "result = run_kmeans(networkx_implementation, networkx_computation(read_data()))"
   ]
  },
  {
   "cell_type": "code",
   "execution_count": 11,
   "metadata": {},
   "outputs": [],
   "source": [
    "file_location = 'roadNet-CA.txt'"
   ]
  },
  {
   "cell_type": "code",
   "execution_count": 12,
   "metadata": {},
   "outputs": [
    {
     "name": "stdout",
     "output_type": "stream",
     "text": [
      "Class-0  Count : 1956976\n",
      "Class-1  Count : 1\n",
      "Class-2  Count : 1\n",
      "Class-3  Count : 1\n",
      "Class-4  Count : 1\n",
      "Class-5  Count : 1\n",
      "Class-6  Count : 1\n",
      "Class-7  Count : 1\n",
      "Class-8  Count : 1\n",
      "Class-9  Count : 1\n",
      "Class-10  Count : 1\n",
      "Class-11  Count : 1\n",
      "Class-12  Count : 1\n",
      "Class-13  Count : 1\n",
      "Class-14  Count : 1\n",
      "Class-15  Count : 1\n",
      "Class-16  Count : 1\n",
      "Class-17  Count : 1\n",
      "Class-18  Count : 1\n",
      "Class-19  Count : 1\n",
      "Class-20  Count : 1\n",
      "Class-21  Count : 1\n",
      "Class-22  Count : 1\n",
      "Class-23  Count : 1\n",
      "Class-24  Count : 1\n",
      "Class-25  Count : 1\n",
      "Class-26  Count : 2\n",
      "Class-27  Count : 1\n",
      "Class-28  Count : 1\n",
      "Class-29  Count : 1\n",
      "Class-30  Count : 1\n",
      "Class-31  Count : 1\n",
      "Class-32  Count : 1\n",
      "Class-33  Count : 1\n",
      "Class-34  Count : 1\n",
      "Class-35  Count : 1\n",
      "Class-36  Count : 1\n",
      "Class-37  Count : 1\n",
      "Class-38  Count : 1\n",
      "Class-39  Count : 2\n",
      "Class-40  Count : 1\n",
      "Class-41  Count : 1\n",
      "Class-42  Count : 1\n",
      "Class-43  Count : 1\n",
      "Class-44  Count : 1\n",
      "Class-45  Count : 1\n",
      "Class-46  Count : 1\n",
      "Class-47  Count : 1\n",
      "Class-48  Count : 1\n",
      "Class-49  Count : 1\n"
     ]
    }
   ],
   "source": [
    "result = run_kmeans(networkx_implementation, networkx_computation(read_data()))"
   ]
  },
  {
   "cell_type": "code",
   "execution_count": 13,
   "metadata": {},
   "outputs": [],
   "source": [
    "file_location = 'soc-Epinions1.txt'"
   ]
  },
  {
   "cell_type": "code",
   "execution_count": 14,
   "metadata": {},
   "outputs": [
    {
     "name": "stdout",
     "output_type": "stream",
     "text": [
      "Class-0  Count : 75870\n",
      "Class-1  Count : 1\n",
      "Class-2  Count : 1\n",
      "Class-3  Count : 1\n",
      "Class-4  Count : 1\n",
      "Class-5  Count : 1\n",
      "Class-6  Count : 1\n",
      "Class-7  Count : 1\n",
      "Class-8  Count : 1\n",
      "Class-9  Count : 1\n"
     ]
    }
   ],
   "source": [
    "result = run_kmeans(networkx_implementation, networkx_computation(read_data()))"
   ]
  },
  {
   "cell_type": "code",
   "execution_count": 15,
   "metadata": {},
   "outputs": [],
   "source": [
    "file_location = 'web-NotreDame.txt'"
   ]
  },
  {
   "cell_type": "code",
   "execution_count": 16,
   "metadata": {},
   "outputs": [
    {
     "name": "stdout",
     "output_type": "stream",
     "text": [
      "Class-0  Count : 325710\n",
      "Class-1  Count : 1\n",
      "Class-2  Count : 1\n",
      "Class-3  Count : 1\n",
      "Class-4  Count : 1\n",
      "Class-5  Count : 1\n",
      "Class-6  Count : 1\n",
      "Class-7  Count : 1\n",
      "Class-8  Count : 1\n",
      "Class-9  Count : 1\n",
      "Class-10  Count : 1\n",
      "Class-11  Count : 1\n",
      "Class-12  Count : 1\n",
      "Class-13  Count : 1\n",
      "Class-14  Count : 1\n",
      "Class-15  Count : 1\n",
      "Class-16  Count : 1\n",
      "Class-17  Count : 1\n",
      "Class-18  Count : 1\n",
      "Class-19  Count : 1\n"
     ]
    }
   ],
   "source": [
    "result = run_kmeans(networkx_implementation, networkx_computation(read_data()))"
   ]
  }
 ],
 "metadata": {
  "kernelspec": {
   "display_name": "Python 3",
   "language": "python",
   "name": "python3"
  },
  "language_info": {
   "codemirror_mode": {
    "name": "ipython",
    "version": 3
   },
   "file_extension": ".py",
   "mimetype": "text/x-python",
   "name": "python",
   "nbconvert_exporter": "python",
   "pygments_lexer": "ipython3",
   "version": "3.7.3"
  },
  "varInspector": {
   "cols": {
    "lenName": 16,
    "lenType": 16,
    "lenVar": 40
   },
   "kernels_config": {
    "python": {
     "delete_cmd_postfix": "",
     "delete_cmd_prefix": "del ",
     "library": "var_list.py",
     "varRefreshCmd": "print(var_dic_list())"
    },
    "r": {
     "delete_cmd_postfix": ") ",
     "delete_cmd_prefix": "rm(",
     "library": "var_list.r",
     "varRefreshCmd": "cat(var_dic_list()) "
    }
   },
   "types_to_exclude": [
    "module",
    "function",
    "builtin_function_or_method",
    "instance",
    "_Feature"
   ],
   "window_display": false
  }
 },
 "nbformat": 4,
 "nbformat_minor": 2
}
